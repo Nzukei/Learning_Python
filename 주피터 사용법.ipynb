{
 "cells": [
  {
   "cell_type": "markdown",
   "id": "c40d814c",
   "metadata": {},
   "source": [
    "# 주피터 노트북(Jupyter notebook) 사용법\n",
    "* Shift + Enter 키를 누르면 셀이 실행되고 커너가 다음셀로 이동한다.\n",
    "* Enter 키를 누르면 다시 편집상태로 돌아온다.\n",
    "* ESC 키를 누르고\n",
    "    * a 키를 누르면 위에 셀이 추가\n",
    "    * b 키를 누르면 아래에 셀이 추가\n",
    "    * dd 키를 누르면 셀이 삭제\n",
    "    * m 키를 누르면 문서 셀로 변경\n",
    "    * y 키를 누르면 코드 셀로 변경\n",
    "\n",
    "## 마크다운(Markdown)이란?\n",
    "* 코드와 함께 문서화를 할 수 있다.\n",
    "* 문서화를 할 수 있는 `문법`이다.\n",
    "```\n",
    "여러 줄의 설명을\n",
    "줄바꿈으로 쓰고자 할 때\n",
    "```"
   ]
  },
  {
   "cell_type": "code",
   "execution_count": null,
   "id": "72118714",
   "metadata": {},
   "outputs": [],
   "source": []
  }
 ],
 "metadata": {
  "kernelspec": {
   "display_name": "Python 3 (ipykernel)",
   "language": "python",
   "name": "python3"
  },
  "language_info": {
   "codemirror_mode": {
    "name": "ipython",
    "version": 3
   },
   "file_extension": ".py",
   "mimetype": "text/x-python",
   "name": "python",
   "nbconvert_exporter": "python",
   "pygments_lexer": "ipython3",
   "version": "3.9.12"
  },
  "toc": {
   "base_numbering": 1,
   "nav_menu": {},
   "number_sections": true,
   "sideBar": true,
   "skip_h1_title": false,
   "title_cell": "Table of Contents",
   "title_sidebar": "Contents",
   "toc_cell": false,
   "toc_position": {},
   "toc_section_display": true,
   "toc_window_display": true
  }
 },
 "nbformat": 4,
 "nbformat_minor": 5
}
