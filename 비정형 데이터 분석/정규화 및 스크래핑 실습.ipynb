{
 "cells": [
  {
   "cell_type": "code",
   "execution_count": 1,
   "id": "fbf8c3c3",
   "metadata": {},
   "outputs": [
    {
     "data": {
      "text/plain": [
       "4"
      ]
     },
     "execution_count": 1,
     "metadata": {},
     "output_type": "execute_result"
    }
   ],
   "source": [
    "4\n"
   ]
  },
  {
   "cell_type": "code",
   "execution_count": 2,
   "id": "063165bf",
   "metadata": {},
   "outputs": [
    {
     "data": {
      "text/plain": [
       "5"
      ]
     },
     "execution_count": 2,
     "metadata": {},
     "output_type": "execute_result"
    }
   ],
   "source": [
    "5"
   ]
  },
  {
   "cell_type": "code",
   "execution_count": 3,
   "id": "a6eab588",
   "metadata": {},
   "outputs": [
    {
     "data": {
      "text/plain": [
       "'신도형'"
      ]
     },
     "execution_count": 3,
     "metadata": {},
     "output_type": "execute_result"
    }
   ],
   "source": [
    "'신도형'"
   ]
  },
  {
   "cell_type": "code",
   "execution_count": 4,
   "id": "81cc523a",
   "metadata": {},
   "outputs": [
    {
     "data": {
      "text/plain": [
       "9"
      ]
     },
     "execution_count": 4,
     "metadata": {},
     "output_type": "execute_result"
    }
   ],
   "source": [
    "4+5"
   ]
  },
  {
   "cell_type": "code",
   "execution_count": 5,
   "id": "200f5c1d",
   "metadata": {},
   "outputs": [
    {
     "data": {
      "text/plain": [
       "30"
      ]
     },
     "execution_count": 5,
     "metadata": {},
     "output_type": "execute_result"
    }
   ],
   "source": [
    "5*6\n"
   ]
  },
  {
   "cell_type": "code",
   "execution_count": 6,
   "id": "993307c2",
   "metadata": {},
   "outputs": [],
   "source": [
    "a = '비정형 분석 좋아'"
   ]
  },
  {
   "cell_type": "code",
   "execution_count": 7,
   "id": "b5c54f6f",
   "metadata": {},
   "outputs": [
    {
     "data": {
      "text/plain": [
       "'비정형 분석 좋아'"
      ]
     },
     "execution_count": 7,
     "metadata": {},
     "output_type": "execute_result"
    }
   ],
   "source": [
    "a"
   ]
  },
  {
   "cell_type": "code",
   "execution_count": 8,
   "id": "b6ed8a63",
   "metadata": {},
   "outputs": [],
   "source": [
    "b = ['a', 'b', 'c']"
   ]
  },
  {
   "cell_type": "code",
   "execution_count": 9,
   "id": "2ceed64b",
   "metadata": {},
   "outputs": [
    {
     "data": {
      "text/plain": [
       "['a', 'b', 'c']"
      ]
     },
     "execution_count": 9,
     "metadata": {},
     "output_type": "execute_result"
    }
   ],
   "source": [
    "b"
   ]
  },
  {
   "cell_type": "code",
   "execution_count": 10,
   "id": "2ea9acb9",
   "metadata": {},
   "outputs": [],
   "source": [
    "c = {'a':4, 'b':6} # {'a'=4, 'b'=6}, 즉 =대신 :사용해야 오류안남"
   ]
  },
  {
   "cell_type": "code",
   "execution_count": 11,
   "id": "1ceb5e25",
   "metadata": {},
   "outputs": [
    {
     "data": {
      "text/plain": [
       "{'a': 4, 'b': 6}"
      ]
     },
     "execution_count": 11,
     "metadata": {},
     "output_type": "execute_result"
    }
   ],
   "source": [
    "c"
   ]
  },
  {
   "cell_type": "code",
   "execution_count": 12,
   "id": "3c1a2882",
   "metadata": {},
   "outputs": [
    {
     "data": {
      "text/plain": [
       "3"
      ]
     },
     "execution_count": 12,
     "metadata": {},
     "output_type": "execute_result"
    }
   ],
   "source": [
    "len(b)"
   ]
  },
  {
   "cell_type": "markdown",
   "id": "95889f32",
   "metadata": {},
   "source": [
    "* 스플릿 같이 값에 종속되어 있는 형태를 메소드"
   ]
  },
  {
   "cell_type": "code",
   "execution_count": 13,
   "id": "1da38234",
   "metadata": {},
   "outputs": [
    {
     "data": {
      "text/plain": [
       "['비정형', '분석', '좋아']"
      ]
     },
     "execution_count": 13,
     "metadata": {},
     "output_type": "execute_result"
    }
   ],
   "source": [
    "a.split()"
   ]
  },
  {
   "cell_type": "code",
   "execution_count": 14,
   "id": "34285bc3",
   "metadata": {},
   "outputs": [],
   "source": [
    "import math # import 라이브러리 호출"
   ]
  },
  {
   "cell_type": "code",
   "execution_count": 15,
   "id": "0f5ef992",
   "metadata": {},
   "outputs": [],
   "source": [
    "import math as m # 변수를 써서 치환해서 쓸 수도 있다."
   ]
  },
  {
   "cell_type": "markdown",
   "id": "1f499ac3",
   "metadata": {},
   "source": [
    "* 라이브러리 안에 특별 함수만 써서 호출 가능"
   ]
  },
  {
   "cell_type": "code",
   "execution_count": 16,
   "id": "fa1876c1",
   "metadata": {},
   "outputs": [],
   "source": [
    "from math import cos # 코사인을 불러서 쓸 때 이런 형태로 불러서 쓸 수 있음"
   ]
  },
  {
   "cell_type": "code",
   "execution_count": 17,
   "id": "e0133c90",
   "metadata": {},
   "outputs": [
    {
     "data": {
      "text/plain": [
       "1.0"
      ]
     },
     "execution_count": 17,
     "metadata": {},
     "output_type": "execute_result"
    }
   ],
   "source": [
    "cos(0)"
   ]
  },
  {
   "cell_type": "code",
   "execution_count": 18,
   "id": "f35bd778",
   "metadata": {},
   "outputs": [],
   "source": [
    "from math import * # 특정 라이브러리 전체를 불러올 때는 아스카(*)를 쓰면 된다"
   ]
  },
  {
   "cell_type": "markdown",
   "id": "eb61dd2f",
   "metadata": {},
   "source": [
    "# 빈도 분석을 통한 wordcloud 그리기"
   ]
  },
  {
   "cell_type": "code",
   "execution_count": 19,
   "id": "ca35bc25",
   "metadata": {},
   "outputs": [
    {
     "name": "stdout",
     "output_type": "stream",
     "text": [
      "Processing c:\\users\\sawoo\\jupyter notebook file\\wordcloud-1.8.1-cp39-cp39-win_amd64.whl\n",
      "Requirement already satisfied: numpy>=1.6.1 in c:\\users\\sawoo\\anaconda3\\lib\\site-packages (from wordcloud==1.8.1) (1.21.5)\n",
      "Requirement already satisfied: pillow in c:\\users\\sawoo\\anaconda3\\lib\\site-packages (from wordcloud==1.8.1) (9.0.1)\n",
      "Requirement already satisfied: matplotlib in c:\\users\\sawoo\\anaconda3\\lib\\site-packages (from wordcloud==1.8.1) (3.5.1)\n",
      "Requirement already satisfied: packaging>=20.0 in c:\\users\\sawoo\\anaconda3\\lib\\site-packages (from matplotlib->wordcloud==1.8.1) (21.3)\n",
      "Requirement already satisfied: cycler>=0.10 in c:\\users\\sawoo\\anaconda3\\lib\\site-packages (from matplotlib->wordcloud==1.8.1) (0.11.0)\n",
      "Requirement already satisfied: fonttools>=4.22.0 in c:\\users\\sawoo\\anaconda3\\lib\\site-packages (from matplotlib->wordcloud==1.8.1) (4.25.0)\n",
      "Requirement already satisfied: kiwisolver>=1.0.1 in c:\\users\\sawoo\\anaconda3\\lib\\site-packages (from matplotlib->wordcloud==1.8.1) (1.3.2)\n",
      "Requirement already satisfied: pyparsing>=2.2.1 in c:\\users\\sawoo\\anaconda3\\lib\\site-packages (from matplotlib->wordcloud==1.8.1) (3.0.4)\n",
      "Requirement already satisfied: python-dateutil>=2.7 in c:\\users\\sawoo\\anaconda3\\lib\\site-packages (from matplotlib->wordcloud==1.8.1) (2.8.2)\n",
      "Requirement already satisfied: six>=1.5 in c:\\users\\sawoo\\anaconda3\\lib\\site-packages (from python-dateutil>=2.7->matplotlib->wordcloud==1.8.1) (1.16.0)\n",
      "wordcloud is already installed with the same version as the provided wheel. Use --force-reinstall to force an installation of the wheel.\n"
     ]
    }
   ],
   "source": [
    "!pip install wordcloud-1.8.1-cp39-cp39-win_amd64.whl"
   ]
  },
  {
   "cell_type": "code",
   "execution_count": 20,
   "id": "64523087",
   "metadata": {},
   "outputs": [
    {
     "name": "stdout",
     "output_type": "stream",
     "text": [
      "Requirement already satisfied: requests in c:\\users\\sawoo\\anaconda3\\lib\\site-packages (2.27.1)\n",
      "Requirement already satisfied: idna<4,>=2.5 in c:\\users\\sawoo\\anaconda3\\lib\\site-packages (from requests) (3.3)\n",
      "Requirement already satisfied: urllib3<1.27,>=1.21.1 in c:\\users\\sawoo\\anaconda3\\lib\\site-packages (from requests) (1.26.9)\n",
      "Requirement already satisfied: charset-normalizer~=2.0.0 in c:\\users\\sawoo\\anaconda3\\lib\\site-packages (from requests) (2.0.4)\n",
      "Requirement already satisfied: certifi>=2017.4.17 in c:\\users\\sawoo\\anaconda3\\lib\\site-packages (from requests) (2021.10.8)\n"
     ]
    }
   ],
   "source": [
    "!pip install requests"
   ]
  },
  {
   "cell_type": "code",
   "execution_count": 21,
   "id": "28f27cfb",
   "metadata": {},
   "outputs": [],
   "source": [
    "import requests"
   ]
  },
  {
   "cell_type": "code",
   "execution_count": 22,
   "id": "69126060",
   "metadata": {},
   "outputs": [],
   "source": [
    "url = 'http://www.gutenberg.org/files/2591/2591-0.txt'"
   ]
  },
  {
   "cell_type": "code",
   "execution_count": 23,
   "id": "61e657ed",
   "metadata": {},
   "outputs": [],
   "source": [
    "res = requests.get(url)"
   ]
  },
  {
   "cell_type": "code",
   "execution_count": 24,
   "id": "76614aad",
   "metadata": {},
   "outputs": [
    {
     "data": {
      "text/plain": [
       "200"
      ]
     },
     "execution_count": 24,
     "metadata": {},
     "output_type": "execute_result"
    }
   ],
   "source": [
    "res.status_code"
   ]
  },
  {
   "cell_type": "code",
   "execution_count": 25,
   "id": "474f9d39",
   "metadata": {},
   "outputs": [
    {
     "data": {
      "text/plain": [
       "'ï»¿The Project Gutenberg eBook of Grimmsâ\\x80\\x99 Fairy Tales, by Jacob Grimm and Wilhelm Grimm\\r\\n\\r\\nThis eB'"
      ]
     },
     "execution_count": 25,
     "metadata": {},
     "output_type": "execute_result"
    }
   ],
   "source": [
    "res.text[:100] # 결과에 텍스트라는 메소드에 실제 값을 가지고 온다"
   ]
  },
  {
   "cell_type": "markdown",
   "id": "b50021c5",
   "metadata": {},
   "source": [
    "* words 변수 지정, `r'[a-zA-z]+'` 뜻은 소문자, 대문자 a~z까지 가져오라는 뜻"
   ]
  },
  {
   "cell_type": "code",
   "execution_count": 26,
   "id": "ef692ab6",
   "metadata": {},
   "outputs": [],
   "source": [
    "import re\n",
    "\n",
    "words = re.findall(r'[a-zA-z]+', res.text)"
   ]
  },
  {
   "cell_type": "code",
   "execution_count": 27,
   "id": "29b2a109",
   "metadata": {},
   "outputs": [
    {
     "data": {
      "text/plain": [
       "['The',\n",
       " 'Project',\n",
       " 'Gutenberg',\n",
       " 'eBook',\n",
       " 'of',\n",
       " 'Grimms',\n",
       " 'Fairy',\n",
       " 'Tales',\n",
       " 'by',\n",
       " 'Jacob']"
      ]
     },
     "execution_count": 27,
     "metadata": {},
     "output_type": "execute_result"
    }
   ],
   "source": [
    "words[:10]"
   ]
  },
  {
   "cell_type": "markdown",
   "id": "61f9562a",
   "metadata": {},
   "source": [
    "* word count로 wordcloud를 그릴 수 가 있다."
   ]
  },
  {
   "cell_type": "code",
   "execution_count": 28,
   "id": "c907e2d6",
   "metadata": {},
   "outputs": [],
   "source": [
    "word_count = {} # words_count 라는 빈 사전을 만든다\n",
    "\n",
    "for word in words: # 위에 만든 words만큼 반복을 해서 사전을 만든다\n",
    "    word = word.lower() # 전부 소문자로 만든다\n",
    "    if word in word_count: # 기존에 나왔던 단어면\n",
    "        word_count[word] += 1 # word count에 1 더하기를 해라\n",
    "    else: # 그렇지 않으면\n",
    "        word_count[word] = 1 # 1로 해라"
   ]
  },
  {
   "cell_type": "code",
   "execution_count": 29,
   "id": "5046f8ba",
   "metadata": {},
   "outputs": [
    {
     "data": {
      "text/plain": [
       "37"
      ]
     },
     "execution_count": 29,
     "metadata": {},
     "output_type": "execute_result"
    }
   ],
   "source": [
    "word_count['ring'] # ring이라는 단어가 몇 번이나 반복했는지"
   ]
  },
  {
   "cell_type": "markdown",
   "id": "528f1195",
   "metadata": {},
   "source": [
    "* wordcount는 단어 빈도가 높을수록 글이나 형태를 크고 진하게 해주는 시각화기 때문에 정렬을 해줘야 한다.\n",
    "* pandas에서 데이터 프레임으로 바꾸고, sort value를 이용해서 정렬을 한다"
   ]
  },
  {
   "cell_type": "code",
   "execution_count": 30,
   "id": "0709b63c",
   "metadata": {},
   "outputs": [],
   "source": [
    "import pandas as pd"
   ]
  },
  {
   "cell_type": "code",
   "execution_count": 31,
   "id": "e6b68409",
   "metadata": {},
   "outputs": [],
   "source": [
    "df = pd.DataFrame(list(word_count.items()), columns=['word', 'n'])\n",
    "# pandas의 DataFrame이라는 변수를 쓰고, list(word_count.items()) 칼럼을 word, n으로 바꿔라"
   ]
  },
  {
   "cell_type": "code",
   "execution_count": 32,
   "id": "891d68a9",
   "metadata": {},
   "outputs": [
    {
     "data": {
      "text/html": [
       "<div>\n",
       "<style scoped>\n",
       "    .dataframe tbody tr th:only-of-type {\n",
       "        vertical-align: middle;\n",
       "    }\n",
       "\n",
       "    .dataframe tbody tr th {\n",
       "        vertical-align: top;\n",
       "    }\n",
       "\n",
       "    .dataframe thead th {\n",
       "        text-align: right;\n",
       "    }\n",
       "</style>\n",
       "<table border=\"1\" class=\"dataframe\">\n",
       "  <thead>\n",
       "    <tr style=\"text-align: right;\">\n",
       "      <th></th>\n",
       "      <th>word</th>\n",
       "      <th>n</th>\n",
       "    </tr>\n",
       "  </thead>\n",
       "  <tbody>\n",
       "    <tr>\n",
       "      <th>0</th>\n",
       "      <td>the</td>\n",
       "      <td>7232</td>\n",
       "    </tr>\n",
       "    <tr>\n",
       "      <th>1</th>\n",
       "      <td>project</td>\n",
       "      <td>89</td>\n",
       "    </tr>\n",
       "    <tr>\n",
       "      <th>2</th>\n",
       "      <td>gutenberg</td>\n",
       "      <td>97</td>\n",
       "    </tr>\n",
       "    <tr>\n",
       "      <th>3</th>\n",
       "      <td>ebook</td>\n",
       "      <td>12</td>\n",
       "    </tr>\n",
       "    <tr>\n",
       "      <th>4</th>\n",
       "      <td>of</td>\n",
       "      <td>1493</td>\n",
       "    </tr>\n",
       "  </tbody>\n",
       "</table>\n",
       "</div>"
      ],
      "text/plain": [
       "        word     n\n",
       "0        the  7232\n",
       "1    project    89\n",
       "2  gutenberg    97\n",
       "3      ebook    12\n",
       "4         of  1493"
      ]
     },
     "execution_count": 32,
     "metadata": {},
     "output_type": "execute_result"
    }
   ],
   "source": [
    "df.head()"
   ]
  },
  {
   "cell_type": "code",
   "execution_count": 33,
   "id": "68f80b03",
   "metadata": {},
   "outputs": [
    {
     "data": {
      "text/html": [
       "<div>\n",
       "<style scoped>\n",
       "    .dataframe tbody tr th:only-of-type {\n",
       "        vertical-align: middle;\n",
       "    }\n",
       "\n",
       "    .dataframe tbody tr th {\n",
       "        vertical-align: top;\n",
       "    }\n",
       "\n",
       "    .dataframe thead th {\n",
       "        text-align: right;\n",
       "    }\n",
       "</style>\n",
       "<table border=\"1\" class=\"dataframe\">\n",
       "  <thead>\n",
       "    <tr style=\"text-align: right;\">\n",
       "      <th></th>\n",
       "      <th>word</th>\n",
       "      <th>n</th>\n",
       "    </tr>\n",
       "  </thead>\n",
       "  <tbody>\n",
       "    <tr>\n",
       "      <th>0</th>\n",
       "      <td>the</td>\n",
       "      <td>7232</td>\n",
       "    </tr>\n",
       "    <tr>\n",
       "      <th>11</th>\n",
       "      <td>and</td>\n",
       "      <td>5551</td>\n",
       "    </tr>\n",
       "    <tr>\n",
       "      <th>54</th>\n",
       "      <td>to</td>\n",
       "      <td>2751</td>\n",
       "    </tr>\n",
       "    <tr>\n",
       "      <th>272</th>\n",
       "      <td>he</td>\n",
       "      <td>2096</td>\n",
       "    </tr>\n",
       "    <tr>\n",
       "      <th>233</th>\n",
       "      <td>a</td>\n",
       "      <td>1978</td>\n",
       "    </tr>\n",
       "  </tbody>\n",
       "</table>\n",
       "</div>"
      ],
      "text/plain": [
       "    word     n\n",
       "0    the  7232\n",
       "11   and  5551\n",
       "54    to  2751\n",
       "272   he  2096\n",
       "233    a  1978"
      ]
     },
     "execution_count": 33,
     "metadata": {},
     "output_type": "execute_result"
    }
   ],
   "source": [
    "df.sort_values('n', ascending=False).head()\n",
    "# 정렬 방법이다. n에 대해서 디센딩한다."
   ]
  },
  {
   "cell_type": "code",
   "execution_count": 34,
   "id": "c5697146",
   "metadata": {},
   "outputs": [],
   "source": [
    "%matplotlib inline\n",
    "# matplot 함수를 호출을 하되, 이 윈도우 창 안에서 실행을 해라"
   ]
  },
  {
   "cell_type": "code",
   "execution_count": 35,
   "id": "b79cb6de",
   "metadata": {},
   "outputs": [],
   "source": [
    "import matplotlib.pyplot as plt\n",
    "# matplotlib 호출"
   ]
  },
  {
   "cell_type": "code",
   "execution_count": 36,
   "id": "de9c3b79",
   "metadata": {},
   "outputs": [],
   "source": [
    "from wordcloud import WordCloud\n",
    "# wordcloud 호출"
   ]
  },
  {
   "cell_type": "markdown",
   "id": "a5ef705c",
   "metadata": {},
   "source": [
    "* word count와 빈도는 프레임 형태다. 하지만 dictionary 형태로 데이터를 받아야 한다.\n",
    "* 프레임 형태로 정리를 한 부분을 다시 `word_count`를 dictionary 형태로 바꾼다."
   ]
  },
  {
   "cell_type": "code",
   "execution_count": 37,
   "id": "24e1fea1",
   "metadata": {},
   "outputs": [],
   "source": [
    "word_count = dict(zip(df.word, df.n))\n",
    "# zip은 옆에 각각 쌍으로 묶어준다"
   ]
  },
  {
   "cell_type": "code",
   "execution_count": 38,
   "id": "430993a5",
   "metadata": {},
   "outputs": [
    {
     "data": {
      "text/plain": [
       "[('the', 7232),\n",
       " ('project', 89),\n",
       " ('gutenberg', 97),\n",
       " ('ebook', 12),\n",
       " ('of', 1493)]"
      ]
     },
     "execution_count": 38,
     "metadata": {},
     "output_type": "execute_result"
    }
   ],
   "source": [
    "list(word_count.items())[:5]"
   ]
  },
  {
   "cell_type": "code",
   "execution_count": null,
   "id": "572bdc8c",
   "metadata": {},
   "outputs": [],
   "source": []
  },
  {
   "cell_type": "code",
   "execution_count": 39,
   "id": "95fa065b",
   "metadata": {},
   "outputs": [],
   "source": [
    "wc = WordCloud(background_color='white', width=400, height=200)\n",
    "# wordcloud에 모형"
   ]
  },
  {
   "cell_type": "code",
   "execution_count": 40,
   "id": "ebfc5230",
   "metadata": {},
   "outputs": [],
   "source": [
    "cloud = wc.fit_words(word_count)\n",
    "# 피팅"
   ]
  },
  {
   "cell_type": "code",
   "execution_count": 41,
   "id": "f0c56f7c",
   "metadata": {
    "scrolled": true
   },
   "outputs": [
    {
     "data": {
      "image/png": "[encoded data removed]",
      "text/plain": [
       "<PIL.Image.Image image mode=RGB size=400x200 at 0x1CA449ACD00>"
      ]
     },
     "execution_count": 41,
     "metadata": {},
     "output_type": "execute_result"
    }
   ],
   "source": [
    "cloud.to_image()"
   ]
  },
  {
   "cell_type": "markdown",
   "id": "982ab63b",
   "metadata": {},
   "source": [
    "# 뉴스 스크래핑 및 전처리\n",
    "* HREF를 보면 실제 뉴스에 해당하는 url들이 들어가 있다"
   ]
  },
  {
   "cell_type": "code",
   "execution_count": 42,
   "id": "399cccb1",
   "metadata": {},
   "outputs": [],
   "source": [
    "import requests"
   ]
  },
  {
   "cell_type": "code",
   "execution_count": 43,
   "id": "350f35b4",
   "metadata": {},
   "outputs": [],
   "source": [
    "res = requests.get('https://search.daum.net/search?w=news&nil_search=btn&DA=NTB&enc=utf8&cluster=y&cluster_page=1&q=%EC%9D%B8%EA%B3%B5%EC%A7%80%EB%8A%A5')"
   ]
  },
  {
   "cell_type": "code",
   "execution_count": 44,
   "id": "4c7ba443",
   "metadata": {},
   "outputs": [],
   "source": [
    "import lxml.html"
   ]
  }
 ],
 "metadata": {
  "kernelspec": {
   "display_name": "Python 3 (ipykernel)",
   "language": "python",
   "name": "python3"
  },
  "language_info": {
   "codemirror_mode": {
    "name": "ipython",
    "version": 3
   },
   "file_extension": ".py",
   "mimetype": "text/x-python",
   "name": "python",
   "nbconvert_exporter": "python",
   "pygments_lexer": "ipython3",
   "version": "3.9.12"
  },
  "toc": {
   "base_numbering": 1,
   "nav_menu": {},
   "number_sections": true,
   "sideBar": true,
   "skip_h1_title": false,
   "title_cell": "Table of Contents",
   "title_sidebar": "Contents",
   "toc_cell": false,
   "toc_position": {},
   "toc_section_display": true,
   "toc_window_display": false
  }
 },
 "nbformat": 4,
 "nbformat_minor": 5
}
