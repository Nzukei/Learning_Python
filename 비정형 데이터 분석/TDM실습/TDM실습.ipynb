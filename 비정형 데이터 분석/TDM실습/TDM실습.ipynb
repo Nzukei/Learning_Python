{
 "cells": [
  {
   "cell_type": "code",
   "execution_count": 1,
   "id": "fda5a026",
   "metadata": {},
   "outputs": [
    {
     "name": "stdout",
     "output_type": "stream",
     "text": [
      "Processing c:\\jupyter notebook\\tdm 실습\\jpype1-1.4.0-cp39-cp39-win_amd64.whl\n",
      "JPype1 is already installed with the same version as the provided wheel. Use --force-reinstall to force an installation of the wheel.\n"
     ]
    }
   ],
   "source": [
    "!pip install JPype1-1.4.0-cp39-cp39-win_amd64.whl"
   ]
  },
  {
   "cell_type": "code",
   "execution_count": 2,
   "id": "a72246f3",
   "metadata": {},
   "outputs": [
    {
     "name": "stdout",
     "output_type": "stream",
     "text": [
      "Requirement already satisfied: Konlpy in c:\\users\\user\\anaconda3\\lib\\site-packages (0.6.0)\n",
      "Requirement already satisfied: lxml>=4.1.0 in c:\\users\\user\\anaconda3\\lib\\site-packages (from Konlpy) (4.8.0)\n",
      "Requirement already satisfied: numpy>=1.6 in c:\\users\\user\\anaconda3\\lib\\site-packages (from Konlpy) (1.21.5)\n",
      "Requirement already satisfied: JPype1>=0.7.0 in c:\\users\\user\\anaconda3\\lib\\site-packages (from Konlpy) (1.4.0)\n"
     ]
    }
   ],
   "source": [
    "!pip install Konlpy"
   ]
  },
  {
   "cell_type": "code",
   "execution_count": 3,
   "id": "61e5a054",
   "metadata": {},
   "outputs": [],
   "source": [
    "from konlpy.tag import Komoran"
   ]
  },
  {
   "cell_type": "code",
   "execution_count": 4,
   "id": "f566342b",
   "metadata": {},
   "outputs": [],
   "source": [
    "tagger = Komoran()"
   ]
  },
  {
   "cell_type": "code",
   "execution_count": 5,
   "id": "4da3fdd5",
   "metadata": {},
   "outputs": [
    {
     "data": {
      "text/plain": [
       "[('아버지', 'NNG'),\n",
       " ('가', 'JKS'),\n",
       " ('방', 'NNG'),\n",
       " ('에', 'JKB'),\n",
       " ('들', 'VV'),\n",
       " ('어', 'EC'),\n",
       " ('가', 'VV'),\n",
       " ('시', 'EP'),\n",
       " ('ㄴ다', 'EF'),\n",
       " ('.', 'SF')]"
      ]
     },
     "execution_count": 5,
     "metadata": {},
     "output_type": "execute_result"
    }
   ],
   "source": [
    "tagger.pos('아버지가 방에 들어 가신다.')"
   ]
  },
  {
   "cell_type": "code",
   "execution_count": 6,
   "id": "a7d78933",
   "metadata": {},
   "outputs": [
    {
     "data": {
      "text/plain": [
       "['아버지', '방']"
      ]
     },
     "execution_count": 6,
     "metadata": {},
     "output_type": "execute_result"
    }
   ],
   "source": [
    "tagger.nouns('아버지가 방에 들어 가신다.')"
   ]
  },
  {
   "cell_type": "code",
   "execution_count": 7,
   "id": "3358905a",
   "metadata": {},
   "outputs": [
    {
     "data": {
      "text/plain": [
       "['아버지', '가', '방', '에', '들', '어', '가', '시', 'ㄴ다', '.']"
      ]
     },
     "execution_count": 7,
     "metadata": {},
     "output_type": "execute_result"
    }
   ],
   "source": [
    "tagger.morphs('아버지가 방에 들어 가신다.')"
   ]
  },
  {
   "cell_type": "code",
   "execution_count": 8,
   "id": "abcefa69",
   "metadata": {},
   "outputs": [],
   "source": [
    "from konlpy.tag import Twitter"
   ]
  },
  {
   "cell_type": "code",
   "execution_count": 9,
   "id": "43367a53",
   "metadata": {},
   "outputs": [
    {
     "name": "stderr",
     "output_type": "stream",
     "text": [
      "C:\\Users\\User\\anaconda3\\lib\\site-packages\\konlpy\\tag\\_okt.py:17: UserWarning: \"Twitter\" has changed to \"Okt\" since KoNLPy v0.4.5.\n",
      "  warn('\"Twitter\" has changed to \"Okt\" since KoNLPy v0.4.5.')\n"
     ]
    }
   ],
   "source": [
    "tagger = Twitter()"
   ]
  },
  {
   "cell_type": "code",
   "execution_count": 10,
   "id": "ad3a69af",
   "metadata": {},
   "outputs": [
    {
     "data": {
      "text/plain": [
       "['아버지', '가', '방', '에', '들어', '가신다', '.']"
      ]
     },
     "execution_count": 10,
     "metadata": {},
     "output_type": "execute_result"
    }
   ],
   "source": [
    "tagger.morphs('아버지가 방에 들어 가신다.')"
   ]
  },
  {
   "cell_type": "code",
   "execution_count": 11,
   "id": "a2959830",
   "metadata": {},
   "outputs": [],
   "source": [
    "import pandas as pd"
   ]
  },
  {
   "cell_type": "code",
   "execution_count": 12,
   "id": "f778cf1d",
   "metadata": {},
   "outputs": [],
   "source": [
    "df = pd.read_csv('amazon_cells_labelled.txt', sep=\"\\t\", header=None)"
   ]
  },
  {
   "cell_type": "code",
   "execution_count": 13,
   "id": "d655dffd",
   "metadata": {},
   "outputs": [
    {
     "data": {
      "text/html": [
       "<div>\n",
       "<style scoped>\n",
       "    .dataframe tbody tr th:only-of-type {\n",
       "        vertical-align: middle;\n",
       "    }\n",
       "\n",
       "    .dataframe tbody tr th {\n",
       "        vertical-align: top;\n",
       "    }\n",
       "\n",
       "    .dataframe thead th {\n",
       "        text-align: right;\n",
       "    }\n",
       "</style>\n",
       "<table border=\"1\" class=\"dataframe\">\n",
       "  <thead>\n",
       "    <tr style=\"text-align: right;\">\n",
       "      <th></th>\n",
       "      <th>0</th>\n",
       "      <th>1</th>\n",
       "    </tr>\n",
       "  </thead>\n",
       "  <tbody>\n",
       "    <tr>\n",
       "      <th>0</th>\n",
       "      <td>So there is no way for me to plug it in here i...</td>\n",
       "      <td>0</td>\n",
       "    </tr>\n",
       "    <tr>\n",
       "      <th>1</th>\n",
       "      <td>Good case, Excellent value.</td>\n",
       "      <td>1</td>\n",
       "    </tr>\n",
       "    <tr>\n",
       "      <th>2</th>\n",
       "      <td>Great for the jawbone.</td>\n",
       "      <td>1</td>\n",
       "    </tr>\n",
       "    <tr>\n",
       "      <th>3</th>\n",
       "      <td>Tied to charger for conversations lasting more...</td>\n",
       "      <td>0</td>\n",
       "    </tr>\n",
       "    <tr>\n",
       "      <th>4</th>\n",
       "      <td>The mic is great.</td>\n",
       "      <td>1</td>\n",
       "    </tr>\n",
       "  </tbody>\n",
       "</table>\n",
       "</div>"
      ],
      "text/plain": [
       "                                                   0  1\n",
       "0  So there is no way for me to plug it in here i...  0\n",
       "1                        Good case, Excellent value.  1\n",
       "2                             Great for the jawbone.  1\n",
       "3  Tied to charger for conversations lasting more...  0\n",
       "4                                  The mic is great.  1"
      ]
     },
     "execution_count": 13,
     "metadata": {},
     "output_type": "execute_result"
    }
   ],
   "source": [
    "df.head()"
   ]
  },
  {
   "cell_type": "code",
   "execution_count": 14,
   "id": "692cdb27",
   "metadata": {},
   "outputs": [
    {
     "data": {
      "text/plain": [
       "(1000, 2)"
      ]
     },
     "execution_count": 14,
     "metadata": {},
     "output_type": "execute_result"
    }
   ],
   "source": [
    "df.shape"
   ]
  },
  {
   "cell_type": "code",
   "execution_count": 15,
   "id": "db684405",
   "metadata": {},
   "outputs": [],
   "source": [
    "content = df[0]"
   ]
  },
  {
   "cell_type": "code",
   "execution_count": 16,
   "id": "e81b559b",
   "metadata": {},
   "outputs": [],
   "source": [
    "sentiment = [1]"
   ]
  },
  {
   "cell_type": "code",
   "execution_count": 17,
   "id": "8aab5ed2",
   "metadata": {},
   "outputs": [],
   "source": [
    "from sklearn.feature_extraction.text import TfidfVectorizer"
   ]
  },
  {
   "cell_type": "code",
   "execution_count": 18,
   "id": "8d9cde21",
   "metadata": {},
   "outputs": [],
   "source": [
    "tfidf = TfidfVectorizer(stop_words='english',\n",
    "                       lowercase=True,\n",
    "                       max_features=1000)"
   ]
  },
  {
   "cell_type": "code",
   "execution_count": 19,
   "id": "73dcd74a",
   "metadata": {},
   "outputs": [],
   "source": [
    "tdm  = tfidf.fit_transform(content)"
   ]
  },
  {
   "cell_type": "code",
   "execution_count": 20,
   "id": "bb1accca",
   "metadata": {},
   "outputs": [
    {
     "data": {
      "text/plain": [
       "<1000x1000 sparse matrix of type '<class 'numpy.float64'>'\n",
       "\twith 4060 stored elements in Compressed Sparse Row format>"
      ]
     },
     "execution_count": 20,
     "metadata": {},
     "output_type": "execute_result"
    }
   ],
   "source": [
    "tdm"
   ]
  },
  {
   "cell_type": "code",
   "execution_count": 21,
   "id": "6a645050",
   "metadata": {},
   "outputs": [
    {
     "data": {
      "text/plain": [
       "array(['worthless', 'worthwhile', 'wouldn', 'wow', 'wrong', 'wrongly',\n",
       "       'year', 'years', 'yell', 'yes'], dtype=object)"
      ]
     },
     "execution_count": 21,
     "metadata": {},
     "output_type": "execute_result"
    }
   ],
   "source": [
    "tfidf.get_feature_names_out()[-10:]"
   ]
  },
  {
   "cell_type": "code",
   "execution_count": 22,
   "id": "95d0f0bd",
   "metadata": {},
   "outputs": [],
   "source": [
    "import joblib"
   ]
  },
  {
   "cell_type": "code",
   "execution_count": 23,
   "id": "cae8d53b",
   "metadata": {},
   "outputs": [],
   "source": [
    "with open('amazon.pkl', 'wb') as f:\n",
    "    joblib.dump(\n",
    "        {'vetorizer': tfidf, 'tdm': tdm, 'sentiment': sentiment},\n",
    "        f\n",
    "    )"
   ]
  },
  {
   "cell_type": "code",
   "execution_count": null,
   "id": "f155dd7f",
   "metadata": {},
   "outputs": [],
   "source": []
  },
  {
   "cell_type": "code",
   "execution_count": 24,
   "id": "b9c96bed",
   "metadata": {},
   "outputs": [],
   "source": [
    "df2 = pd.read_csv('한국방송통신전파진흥원_전파누리_최신뉴스_20210129.csv',\n",
    "                 encoding='cp949',\n",
    "                 engine='python')"
   ]
  },
  {
   "cell_type": "code",
   "execution_count": 25,
   "id": "d6883b2e",
   "metadata": {},
   "outputs": [
    {
     "data": {
      "text/html": [
       "<div>\n",
       "<style scoped>\n",
       "    .dataframe tbody tr th:only-of-type {\n",
       "        vertical-align: middle;\n",
       "    }\n",
       "\n",
       "    .dataframe tbody tr th {\n",
       "        vertical-align: top;\n",
       "    }\n",
       "\n",
       "    .dataframe thead th {\n",
       "        text-align: right;\n",
       "    }\n",
       "</style>\n",
       "<table border=\"1\" class=\"dataframe\">\n",
       "  <thead>\n",
       "    <tr style=\"text-align: right;\">\n",
       "      <th></th>\n",
       "      <th>제목</th>\n",
       "      <th>내용</th>\n",
       "      <th>조회수</th>\n",
       "      <th>첨부파일명</th>\n",
       "      <th>첨부파일 링크</th>\n",
       "      <th>출처</th>\n",
       "    </tr>\n",
       "  </thead>\n",
       "  <tbody>\n",
       "    <tr>\n",
       "      <th>0</th>\n",
       "      <td>한국전자파학회 영문학술지 'SCIE' 등재</td>\n",
       "      <td>한국전자파학회가 발간하는 영문 학술지 'JEES'가 국제 과학기술 논문 인용색인 확...</td>\n",
       "      <td>6</td>\n",
       "      <td>NaN</td>\n",
       "      <td>NaN</td>\n",
       "      <td>전자신문</td>\n",
       "    </tr>\n",
       "    <tr>\n",
       "      <th>1</th>\n",
       "      <td>美 AT&amp;T 밀리미터파 활용 '5G+' 상용화</td>\n",
       "      <td>미국 AT&amp;T가 39㎓ 밀리미터파 대역을 활용한 '5G플러스(5G+)' 서비스를 상...</td>\n",
       "      <td>2</td>\n",
       "      <td>NaN</td>\n",
       "      <td>NaN</td>\n",
       "      <td>전자신문</td>\n",
       "    </tr>\n",
       "    <tr>\n",
       "      <th>2</th>\n",
       "      <td>[이슈분석]한국, 제4이통 도전 7차례 실패</td>\n",
       "      <td>우리나라는 경쟁 활성화와 통신비 인하를 목표로 2010년부터 7차례 제4 이동통신사...</td>\n",
       "      <td>1</td>\n",
       "      <td>NaN</td>\n",
       "      <td>NaN</td>\n",
       "      <td>전자신문</td>\n",
       "    </tr>\n",
       "    <tr>\n",
       "      <th>3</th>\n",
       "      <td>SKT '2G 종료' 또 조사···정부, 2차 실태점검 나선다</td>\n",
       "      <td>과학기술정보통신부가 SK텔레콤 2세대(2G) 이동통신 가입자들의 민원 분석과 기지국...</td>\n",
       "      <td>1</td>\n",
       "      <td>NaN</td>\n",
       "      <td>NaN</td>\n",
       "      <td>전자신문</td>\n",
       "    </tr>\n",
       "    <tr>\n",
       "      <th>4</th>\n",
       "      <td>공공용 주파수 업무처리지침 마련…\"수급 효율 향상\"</td>\n",
       "      <td>과학기술정보통신부가 공공용 주파수를 효율적으로 수급·관리하기 위한 업무처리지침을 마...</td>\n",
       "      <td>1</td>\n",
       "      <td>NaN</td>\n",
       "      <td>NaN</td>\n",
       "      <td>전자신문</td>\n",
       "    </tr>\n",
       "    <tr>\n",
       "      <th>...</th>\n",
       "      <td>...</td>\n",
       "      <td>...</td>\n",
       "      <td>...</td>\n",
       "      <td>...</td>\n",
       "      <td>...</td>\n",
       "      <td>...</td>\n",
       "    </tr>\n",
       "    <tr>\n",
       "      <th>535</th>\n",
       "      <td>홈 IoT 기업, 기축 아파트 시장 노린다</td>\n",
       "      <td>홈 사물인터넷(IoT) 기업이 이미 지어진 아파트와 빌라 등 `기축 건물`에 시선을...</td>\n",
       "      <td>13</td>\n",
       "      <td>NaN</td>\n",
       "      <td>NaN</td>\n",
       "      <td>전자신문</td>\n",
       "    </tr>\n",
       "    <tr>\n",
       "      <th>536</th>\n",
       "      <td>아시아 최초 무선전력전송 상호호환성시험소 국내에 생긴다</td>\n",
       "      <td>우리나라가 아시아 무선전력전송(무선충전) 허브로 입지를 굳힐 전망이다.미래창조과학부...</td>\n",
       "      <td>15</td>\n",
       "      <td>NaN</td>\n",
       "      <td>NaN</td>\n",
       "      <td>전자신문</td>\n",
       "    </tr>\n",
       "    <tr>\n",
       "      <th>537</th>\n",
       "      <td>SK텔레콤, 시속 170㎞ 차량서 5G 테스트 성공</td>\n",
       "      <td>SK텔레콤이 초고속 주행 차량에서 일반 스마트폰보다 50배가량 빠른 5G 통신에 성...</td>\n",
       "      <td>20</td>\n",
       "      <td>NaN</td>\n",
       "      <td>NaN</td>\n",
       "      <td>전자신문</td>\n",
       "    </tr>\n",
       "    <tr>\n",
       "      <th>538</th>\n",
       "      <td>실시간 속보 위닉스, 지난해 매출 2131억 기록...전년 대비 7.9% 상승 한국...</td>\n",
       "      <td>SK텔레콤이 초고속 주행 차량에서 일반 스마트폰보다 50배가량 빠른 5G 통신에 성...</td>\n",
       "      <td>4</td>\n",
       "      <td>NaN</td>\n",
       "      <td>NaN</td>\n",
       "      <td>전자신문</td>\n",
       "    </tr>\n",
       "    <tr>\n",
       "      <th>539</th>\n",
       "      <td>SK텔레콤, 시속 170㎞ 차량서 5G 테스트 성공</td>\n",
       "      <td>SK텔레콤이 초고속 주행 차량에서 일반 스마트폰보다 50배가량 빠른 5G 통신에 성...</td>\n",
       "      <td>8</td>\n",
       "      <td>NaN</td>\n",
       "      <td>NaN</td>\n",
       "      <td>NaN</td>\n",
       "    </tr>\n",
       "  </tbody>\n",
       "</table>\n",
       "<p>540 rows × 6 columns</p>\n",
       "</div>"
      ],
      "text/plain": [
       "                                                    제목  \\\n",
       "0                              한국전자파학회 영문학술지 'SCIE' 등재   \n",
       "1                            美 AT&T 밀리미터파 활용 '5G+' 상용화   \n",
       "2                             [이슈분석]한국, 제4이통 도전 7차례 실패   \n",
       "3                   SKT '2G 종료' 또 조사···정부, 2차 실태점검 나선다   \n",
       "4                         공공용 주파수 업무처리지침 마련…\"수급 효율 향상\"   \n",
       "..                                                 ...   \n",
       "535                            홈 IoT 기업, 기축 아파트 시장 노린다   \n",
       "536                     아시아 최초 무선전력전송 상호호환성시험소 국내에 생긴다   \n",
       "537                       SK텔레콤, 시속 170㎞ 차량서 5G 테스트 성공   \n",
       "538  실시간 속보 위닉스, 지난해 매출 2131억 기록...전년 대비 7.9% 상승 한국...   \n",
       "539                       SK텔레콤, 시속 170㎞ 차량서 5G 테스트 성공   \n",
       "\n",
       "                                                    내용  조회수 첨부파일명 첨부파일 링크  \\\n",
       "0    한국전자파학회가 발간하는 영문 학술지 'JEES'가 국제 과학기술 논문 인용색인 확...    6   NaN     NaN   \n",
       "1    미국 AT&T가 39㎓ 밀리미터파 대역을 활용한 '5G플러스(5G+)' 서비스를 상...    2   NaN     NaN   \n",
       "2    우리나라는 경쟁 활성화와 통신비 인하를 목표로 2010년부터 7차례 제4 이동통신사...    1   NaN     NaN   \n",
       "3    과학기술정보통신부가 SK텔레콤 2세대(2G) 이동통신 가입자들의 민원 분석과 기지국...    1   NaN     NaN   \n",
       "4    과학기술정보통신부가 공공용 주파수를 효율적으로 수급·관리하기 위한 업무처리지침을 마...    1   NaN     NaN   \n",
       "..                                                 ...  ...   ...     ...   \n",
       "535  홈 사물인터넷(IoT) 기업이 이미 지어진 아파트와 빌라 등 `기축 건물`에 시선을...   13   NaN     NaN   \n",
       "536  우리나라가 아시아 무선전력전송(무선충전) 허브로 입지를 굳힐 전망이다.미래창조과학부...   15   NaN     NaN   \n",
       "537  SK텔레콤이 초고속 주행 차량에서 일반 스마트폰보다 50배가량 빠른 5G 통신에 성...   20   NaN     NaN   \n",
       "538  SK텔레콤이 초고속 주행 차량에서 일반 스마트폰보다 50배가량 빠른 5G 통신에 성...    4   NaN     NaN   \n",
       "539  SK텔레콤이 초고속 주행 차량에서 일반 스마트폰보다 50배가량 빠른 5G 통신에 성...    8   NaN     NaN   \n",
       "\n",
       "       출처  \n",
       "0    전자신문  \n",
       "1    전자신문  \n",
       "2    전자신문  \n",
       "3    전자신문  \n",
       "4    전자신문  \n",
       "..    ...  \n",
       "535  전자신문  \n",
       "536  전자신문  \n",
       "537  전자신문  \n",
       "538  전자신문  \n",
       "539   NaN  \n",
       "\n",
       "[540 rows x 6 columns]"
      ]
     },
     "execution_count": 25,
     "metadata": {},
     "output_type": "execute_result"
    }
   ],
   "source": [
    "df2"
   ]
  },
  {
   "cell_type": "code",
   "execution_count": 26,
   "id": "dd375863",
   "metadata": {},
   "outputs": [
    {
     "data": {
      "text/plain": [
       "(540, 6)"
      ]
     },
     "execution_count": 26,
     "metadata": {},
     "output_type": "execute_result"
    }
   ],
   "source": [
    "df2.shape"
   ]
  },
  {
   "cell_type": "code",
   "execution_count": 27,
   "id": "bb92864d",
   "metadata": {},
   "outputs": [
    {
     "data": {
      "text/plain": [
       "0      한국전자파학회가 발간하는 영문 학술지 'JEES'가 국제 과학기술 논문 인용색인 확...\n",
       "1      미국 AT&T가 39㎓ 밀리미터파 대역을 활용한 '5G플러스(5G+)' 서비스를 상...\n",
       "2      우리나라는 경쟁 활성화와 통신비 인하를 목표로 2010년부터 7차례 제4 이동통신사...\n",
       "3      과학기술정보통신부가 SK텔레콤 2세대(2G) 이동통신 가입자들의 민원 분석과 기지국...\n",
       "4      과학기술정보통신부가 공공용 주파수를 효율적으로 수급·관리하기 위한 업무처리지침을 마...\n",
       "                             ...                        \n",
       "535    홈 사물인터넷(IoT) 기업이 이미 지어진 아파트와 빌라 등 `기축 건물`에 시선을...\n",
       "536    우리나라가 아시아 무선전력전송(무선충전) 허브로 입지를 굳힐 전망이다.미래창조과학부...\n",
       "537    SK텔레콤이 초고속 주행 차량에서 일반 스마트폰보다 50배가량 빠른 5G 통신에 성...\n",
       "538    SK텔레콤이 초고속 주행 차량에서 일반 스마트폰보다 50배가량 빠른 5G 통신에 성...\n",
       "539    SK텔레콤이 초고속 주행 차량에서 일반 스마트폰보다 50배가량 빠른 5G 통신에 성...\n",
       "Name: 내용, Length: 540, dtype: object"
      ]
     },
     "execution_count": 27,
     "metadata": {},
     "output_type": "execute_result"
    }
   ],
   "source": [
    "df2['내용']"
   ]
  },
  {
   "cell_type": "code",
   "execution_count": 28,
   "id": "c1f313a8",
   "metadata": {},
   "outputs": [],
   "source": [
    "from konlpy.tag import Komoran"
   ]
  },
  {
   "cell_type": "code",
   "execution_count": 29,
   "id": "4a51fb20",
   "metadata": {},
   "outputs": [],
   "source": [
    "tagger = Komoran()"
   ]
  },
  {
   "cell_type": "code",
   "execution_count": 30,
   "id": "412f7c8d",
   "metadata": {},
   "outputs": [
    {
     "data": {
      "text/plain": [
       "['아침', '해', '버스']"
      ]
     },
     "execution_count": 30,
     "metadata": {},
     "output_type": "execute_result"
    }
   ],
   "source": [
    "tagger.nouns('아침에 해를 보며 버스를 탔다') # 명사 추출 함수 확인"
   ]
  },
  {
   "cell_type": "code",
   "execution_count": 31,
   "id": "bf856468",
   "metadata": {},
   "outputs": [],
   "source": [
    "def get_nouns(text):\n",
    "    nouns = tagger.nouns(text)\n",
    "    nouns = [word for word in nouns if len(word) > 1]\n",
    "    return nouns"
   ]
  },
  {
   "cell_type": "code",
   "execution_count": 32,
   "id": "78d3fbd6",
   "metadata": {},
   "outputs": [
    {
     "data": {
      "text/plain": [
       "['아침', '버스']"
      ]
     },
     "execution_count": 32,
     "metadata": {},
     "output_type": "execute_result"
    }
   ],
   "source": [
    "get_nouns('아침에 해를 보며 버스를 탔다')"
   ]
  },
  {
   "cell_type": "code",
   "execution_count": 33,
   "id": "722a5c2d",
   "metadata": {},
   "outputs": [],
   "source": [
    "from sklearn.feature_extraction.text import CountVectorizer"
   ]
  },
  {
   "cell_type": "code",
   "execution_count": 34,
   "id": "aab8cd0c",
   "metadata": {},
   "outputs": [],
   "source": [
    "cv = CountVectorizer"
   ]
  },
  {
   "cell_type": "code",
   "execution_count": 35,
   "id": "cadaa2e1",
   "metadata": {},
   "outputs": [],
   "source": [
    "cv = CountVectorizer(max_features=1000, tokenizer=get_nouns)"
   ]
  },
  {
   "cell_type": "code",
   "execution_count": 36,
   "id": "6b15e32e",
   "metadata": {},
   "outputs": [],
   "source": [
    "tdm = cv.fit_transform(df2['내용'])"
   ]
  },
  {
   "cell_type": "code",
   "execution_count": 37,
   "id": "a214d7ba",
   "metadata": {},
   "outputs": [
    {
     "data": {
      "text/plain": [
       "array(['회의', '회장', '획득', '효과', '효율', '후보', '후속', '훈련', '휴대', '휴대폰'],\n",
       "      dtype=object)"
      ]
     },
     "execution_count": 37,
     "metadata": {},
     "output_type": "execute_result"
    }
   ],
   "source": [
    "cv.get_feature_names_out()[-10:]"
   ]
  },
  {
   "cell_type": "code",
   "execution_count": 38,
   "id": "da830993",
   "metadata": {},
   "outputs": [
    {
     "data": {
      "text/plain": [
       "<540x1000 sparse matrix of type '<class 'numpy.int64'>'\n",
       "\twith 16137 stored elements in Compressed Sparse Row format>"
      ]
     },
     "execution_count": 38,
     "metadata": {},
     "output_type": "execute_result"
    }
   ],
   "source": [
    "tdm"
   ]
  },
  {
   "cell_type": "code",
   "execution_count": 39,
   "id": "108ab41c",
   "metadata": {},
   "outputs": [],
   "source": [
    "from sklearn.feature_extraction.text import TfidfTransformer"
   ]
  },
  {
   "cell_type": "code",
   "execution_count": 40,
   "id": "b30f5534",
   "metadata": {},
   "outputs": [],
   "source": [
    "tfidf = TfidfTransformer()"
   ]
  },
  {
   "cell_type": "code",
   "execution_count": 41,
   "id": "2369494a",
   "metadata": {},
   "outputs": [],
   "source": [
    "tdm2 = tfidf.fit_transform(tdm)"
   ]
  },
  {
   "cell_type": "code",
   "execution_count": 42,
   "id": "f4bf279f",
   "metadata": {},
   "outputs": [],
   "source": [
    "words = cv.get_feature_names_out()"
   ]
  },
  {
   "cell_type": "code",
   "execution_count": 43,
   "id": "8ce092c8",
   "metadata": {},
   "outputs": [
    {
     "name": "stdout",
     "output_type": "stream",
     "text": [
      "결과 1\n",
      "과학기술 1\n",
      "구성 1\n",
      "국제 3\n",
      "기준 2\n",
      "발간 1\n",
      "우수 1\n",
      "전자파 1\n",
      "점수 1\n",
      "통과 1\n",
      "평가 1\n",
      "품질 1\n",
      "학회 1\n",
      "한국 1\n",
      "항목 2\n",
      "확장 1\n"
     ]
    }
   ],
   "source": [
    "for i, n in sorted(zip(tdm[0].indices, tdm[0].data)):\n",
    "    print(words[i], n)"
   ]
  },
  {
   "cell_type": "code",
   "execution_count": 44,
   "id": "f00abdcb",
   "metadata": {},
   "outputs": [],
   "source": [
    "with open('ai_nuws_tfidf.pkl', 'wb') as f:\n",
    "    joblib.dump(\n",
    "        {'vetorizer': tfidf, 'tdm': tdm2},\n",
    "        f\n",
    "    )"
   ]
  },
  {
   "cell_type": "code",
   "execution_count": 45,
   "id": "79628e8c",
   "metadata": {},
   "outputs": [],
   "source": [
    "with open('ai_nuws_count.pkl', 'wb') as f:\n",
    "    joblib.dump(\n",
    "        {'vetorizer': cv, 'tdm': tdm2},\n",
    "        f\n",
    "    )"
   ]
  }
 ],
 "metadata": {
  "kernelspec": {
   "display_name": "Python 3 (ipykernel)",
   "language": "python",
   "name": "python3"
  },
  "language_info": {
   "codemirror_mode": {
    "name": "ipython",
    "version": 3
   },
   "file_extension": ".py",
   "mimetype": "text/x-python",
   "name": "python",
   "nbconvert_exporter": "python",
   "pygments_lexer": "ipython3",
   "version": "3.9.12"
  }
 },
 "nbformat": 4,
 "nbformat_minor": 5
}
