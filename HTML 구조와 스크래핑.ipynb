{
 "cells": [
  {
   "cell_type": "markdown",
   "id": "796c64aa",
   "metadata": {},
   "source": [
    "# GET\n",
    "* 서버 측에 존재하는 데이터를 가져오기 위한 요청 방법\n",
    "* 하나의 URL 주소의 대상에 GET 요청을 보내면 서버는 원칙적으로 동일한 응답을 해야 함"
   ]
  },
  {
   "cell_type": "code",
   "execution_count": 1,
   "id": "28bb11f2",
   "metadata": {},
   "outputs": [],
   "source": [
    "# Python request Library 활용 Get 요청(파이썬 홈페이지 로고 가져오기)\n",
    "import requests\n",
    "url = 'https://www.python.org/static/img/python-logo.png'\n",
    "res = requests.get(url)"
   ]
  },
  {
   "cell_type": "code",
   "execution_count": 2,
   "id": "9ea50ea9",
   "metadata": {},
   "outputs": [
    {
     "data": {
      "text/plain": [
       "200"
      ]
     },
     "execution_count": 2,
     "metadata": {},
     "output_type": "execute_result"
    }
   ],
   "source": [
    "#GET 요청 결과 코드 확인\n",
    "res.status_code"
   ]
  },
  {
   "cell_type": "markdown",
   "id": "47643a56",
   "metadata": {},
   "source": [
    "# HTTP 상태 코드\n",
    "* 2XX\n",
    "    * SUCCESS. 보통 200을 사용함\n",
    "* 3XX\n",
    "    * 리다이렉션. 요청한 URL이 다른 URL로 이동. 301(영구이동)과 302(임시이동)이 자주 사용됨\n",
    "* 4XX\n",
    "    * 요청 ERROR. 잘못된 요청을 보낸 경우. 대표적으로 잘못된 URL을 입력한 경우 발생하는 404(찾을 수 없음)가 있음\n",
    "* 5XX\n",
    "    * 서버 ERROR. 버그나 장애 등 서버 측의 오류. 500(내부 서버 오류), 502(불량 게이트웨이) 등이 존재함\n"
   ]
  },
  {
   "cell_type": "markdown",
   "id": "9a14b680",
   "metadata": {},
   "source": [
    "# 요청 결과 저장"
   ]
  },
  {
   "cell_type": "code",
   "execution_count": 3,
   "id": "64b19247",
   "metadata": {},
   "outputs": [],
   "source": [
    "# .content에 결과에 대한 내용이 저장 되어 있으며, 파일로 저장해보기\n",
    "with open('log.png','wb') as f:\n",
    "        f.write(res.content)"
   ]
  },
  {
   "cell_type": "markdown",
   "id": "7ed1fdae",
   "metadata": {},
   "source": [
    "# 단어 빈도 세기\n",
    "* 그림동화 다운로드"
   ]
  },
  {
   "cell_type": "code",
   "execution_count": 4,
   "id": "41262985",
   "metadata": {},
   "outputs": [
    {
     "data": {
      "text/plain": [
       "200"
      ]
     },
     "execution_count": 4,
     "metadata": {},
     "output_type": "execute_result"
    }
   ],
   "source": [
    "# 저작권이 만료된 구텐베르크 프로젝트에서 동화 가져오기\n",
    "\n",
    "import requests\n",
    "url='http://www.gutenberg.org/files/2591/2591-0.txt'\n",
    "res=requests.get(url)\n",
    "\n",
    "res.status_code"
   ]
  },
  {
   "cell_type": "code",
   "execution_count": 5,
   "id": "c7469243",
   "metadata": {},
   "outputs": [
    {
     "data": {
      "text/plain": [
       "'ï»¿The Project Gutenberg eBook of Grimmsâ\\x80\\x99 Fairy Tales, by Jacob Grimm and Wilhelm Grimm\\r\\n\\r\\nThis eB'"
      ]
     },
     "execution_count": 5,
     "metadata": {},
     "output_type": "execute_result"
    }
   ],
   "source": [
    "# res.text는 res.content의 내용이 해석된 것임\n",
    "\n",
    "res.text[:100]"
   ]
  },
  {
   "cell_type": "markdown",
   "id": "94980b2f",
   "metadata": {},
   "source": [
    "* 단어 추출"
   ]
  },
  {
   "cell_type": "code",
   "execution_count": 6,
   "id": "7f07a37a",
   "metadata": {
    "scrolled": true
   },
   "outputs": [
    {
     "data": {
      "text/plain": [
       "['The',\n",
       " 'Project',\n",
       " 'Gutenberg',\n",
       " 'eBook',\n",
       " 'of',\n",
       " 'Grimms',\n",
       " 'Fairy',\n",
       " 'Tales',\n",
       " 'by',\n",
       " 'Jacob']"
      ]
     },
     "execution_count": 6,
     "metadata": {},
     "output_type": "execute_result"
    }
   ],
   "source": [
    "import re # 정규화 내장 모듈\n",
    "\n",
    "words = re.findall(r'[a-zA-Z]+', res.text)\n",
    "words[:10]"
   ]
  },
  {
   "cell_type": "markdown",
   "id": "1d9e8f86",
   "metadata": {},
   "source": [
    "* 단어 세기"
   ]
  },
  {
   "cell_type": "code",
   "execution_count": 7,
   "id": "e1fbf231",
   "metadata": {},
   "outputs": [],
   "source": [
    "word_count = {} # 사전을 만든다\n",
    "for word in words: # 모든 단어에 대해서\n",
    "    word = word.lower() # 단어를 소문자로 바꾼다\n",
    "    if word in word_count: # 사전에 단어가 있으면\n",
    "        word_count[word] += 1 # 단어의 개수를 1 증가시킨다\n",
    "    else: # 없으면\n",
    "        word_count[word] = 1 # 단어의 개수를 1로 한다"
   ]
  },
  {
   "cell_type": "code",
   "execution_count": 8,
   "id": "891e6e9e",
   "metadata": {},
   "outputs": [
    {
     "data": {
      "text/plain": [
       "37"
      ]
     },
     "execution_count": 8,
     "metadata": {},
     "output_type": "execute_result"
    }
   ],
   "source": [
    "# 'ring'이라는 단어 출현 빈도\n",
    "word_count['ring']"
   ]
  },
  {
   "cell_type": "markdown",
   "id": "394c5af5",
   "metadata": {},
   "source": [
    "* 빈도순 정렬"
   ]
  },
  {
   "cell_type": "code",
   "execution_count": 9,
   "id": "e88c43a1",
   "metadata": {},
   "outputs": [
    {
     "data": {
      "text/html": [
       "<div>\n",
       "<style scoped>\n",
       "    .dataframe tbody tr th:only-of-type {\n",
       "        vertical-align: middle;\n",
       "    }\n",
       "\n",
       "    .dataframe tbody tr th {\n",
       "        vertical-align: top;\n",
       "    }\n",
       "\n",
       "    .dataframe thead th {\n",
       "        text-align: right;\n",
       "    }\n",
       "</style>\n",
       "<table border=\"1\" class=\"dataframe\">\n",
       "  <thead>\n",
       "    <tr style=\"text-align: right;\">\n",
       "      <th></th>\n",
       "      <th>word</th>\n",
       "      <th>n</th>\n",
       "    </tr>\n",
       "  </thead>\n",
       "  <tbody>\n",
       "    <tr>\n",
       "      <th>0</th>\n",
       "      <td>the</td>\n",
       "      <td>7232</td>\n",
       "    </tr>\n",
       "    <tr>\n",
       "      <th>11</th>\n",
       "      <td>and</td>\n",
       "      <td>5551</td>\n",
       "    </tr>\n",
       "    <tr>\n",
       "      <th>54</th>\n",
       "      <td>to</td>\n",
       "      <td>2751</td>\n",
       "    </tr>\n",
       "    <tr>\n",
       "      <th>268</th>\n",
       "      <td>he</td>\n",
       "      <td>2096</td>\n",
       "    </tr>\n",
       "    <tr>\n",
       "      <th>229</th>\n",
       "      <td>a</td>\n",
       "      <td>1978</td>\n",
       "    </tr>\n",
       "  </tbody>\n",
       "</table>\n",
       "</div>"
      ],
      "text/plain": [
       "    word     n\n",
       "0    the  7232\n",
       "11   and  5551\n",
       "54    to  2751\n",
       "268   he  2096\n",
       "229    a  1978"
      ]
     },
     "execution_count": 9,
     "metadata": {},
     "output_type": "execute_result"
    }
   ],
   "source": [
    "import pandas as pd\n",
    "\n",
    "df = pd.DataFrame(list(word_count.items()), columns=['word', 'n'])\n",
    "df.sort_values('n', ascending=False).head()"
   ]
  },
  {
   "cell_type": "code",
   "execution_count": 10,
   "id": "72a6e3aa",
   "metadata": {},
   "outputs": [
    {
     "ename": "NameError",
     "evalue": "name 'count' is not defined",
     "output_type": "error",
     "traceback": [
      "\u001b[1;31m---------------------------------------------------------------------------\u001b[0m",
      "\u001b[1;31mNameError\u001b[0m                                 Traceback (most recent call last)",
      "Input \u001b[1;32mIn [10]\u001b[0m, in \u001b[0;36m<cell line: 7>\u001b[1;34m()\u001b[0m\n\u001b[0;32m      4\u001b[0m \u001b[38;5;28;01mimport\u001b[39;00m \u001b[38;5;21;01mmatplotlib\u001b[39;00m\u001b[38;5;21;01m.\u001b[39;00m\u001b[38;5;21;01mpyplot\u001b[39;00m \u001b[38;5;28;01mas\u001b[39;00m \u001b[38;5;21;01mplt\u001b[39;00m \u001b[38;5;66;03m# 모듈 호출\u001b[39;00m\n\u001b[0;32m      5\u001b[0m \u001b[38;5;28;01mfrom\u001b[39;00m \u001b[38;5;21;01mwordcloud\u001b[39;00m \u001b[38;5;28;01mimport\u001b[39;00m WordCloud \u001b[38;5;66;03m# 모듈 호출\u001b[39;00m\n\u001b[1;32m----> 7\u001b[0m word_count \u001b[38;5;241m=\u001b[39m \u001b[38;5;28mdict\u001b[39m(\u001b[38;5;28mzip\u001b[39m(words, \u001b[43mcount\u001b[49m)) \u001b[38;5;66;03m# 단어와 빈도수 짝지어 사전 생성 \u001b[39;00m\n\u001b[0;32m      8\u001b[0m wc \u001b[38;5;241m=\u001b[39m WordCloud(background_color\u001b[38;5;241m=\u001b[39m\u001b[38;5;124m'\u001b[39m\u001b[38;5;124mwhite\u001b[39m\u001b[38;5;124m'\u001b[39m, width\u001b[38;5;241m=\u001b[39m\u001b[38;5;241m400\u001b[39m, height\u001b[38;5;241m=\u001b[39m\u001b[38;5;241m200\u001b[39m) \u001b[38;5;66;03m# 400*200 틀 생성\u001b[39;00m\n\u001b[0;32m     10\u001b[0m cloud \u001b[38;5;241m=\u001b[39m wc\u001b[38;5;241m.\u001b[39mfit_words(word_count) \u001b[38;5;66;03m# 단어 핏팅\u001b[39;00m\n",
      "\u001b[1;31mNameError\u001b[0m: name 'count' is not defined"
     ]
    }
   ],
   "source": [
    "%matplotlib inline\n",
    "# 별도 팝업으로 실행\n",
    "\n",
    "import matplotlib.pyplot as plt # 모듈 호출\n",
    "from wordcloud import WordCloud # 모듈 호출\n",
    "\n",
    "word_count = dict(zip(words, count)) # 단어와 빈도수 짝지어 사전 생성 \n",
    "wc = WordCloud(background_color='white', width=400, height=200) # 400*200 틀 생성\n",
    "\n",
    "cloud = wc.fit_words(word_count) # 단어 핏팅\n",
    "cloud.to_image() # 이미지 생성"
   ]
  },
  {
   "cell_type": "markdown",
   "id": "934457d0",
   "metadata": {},
   "source": [
    "# Daum 뉴스 크롤링\n",
    "* 기사 링크 모으기"
   ]
  },
  {
   "cell_type": "code",
   "execution_count": 11,
   "id": "7694d87d",
   "metadata": {},
   "outputs": [],
   "source": [
    "import requests\n",
    "\n",
    "res=requests.get('http://search.daum.net/search?w=news&cluster=n&q=%EC%9D%B8%EA%B3%B5%EC%A7%80%EB%8A%A5&sort=recency')\n",
    "# Daum에서 검색한 url을 가져옴\n",
    "\n",
    "import lxml.html\n",
    "root = lxml.html.fromstring(res.text)\n",
    "\n",
    "# 리스트를 활용하여 검색 결과에 대한 링크 수집\n",
    "urls = []\n",
    "for link in root.cssselect('a.f_nb'):\n",
    "    urls.append(link.attrib['href'])"
   ]
  },
  {
   "cell_type": "markdown",
   "id": "4b6093c2",
   "metadata": {},
   "source": [
    "* 기사 링크 본문 수집하기"
   ]
  },
  {
   "cell_type": "code",
   "execution_count": 12,
   "id": "22700f39",
   "metadata": {},
   "outputs": [],
   "source": [
    "# python에서 []:배열 or 리스트. {}:사전, ():튜플\n",
    "# 검색 결과에 대해 수집된 링크 기사 내용 가져오기\n",
    "\n",
    "articles = []\n",
    "for u in urls:\n",
    "    if not u.startswith(\"http\"):\n",
    "        continue\n",
    "    res = requests.get(u)\n",
    "    root = lxml.html.fromstring(res.text)\n",
    "    body = root.cssselect(\".article_view\").pop()\n",
    "    content = body.text_content()\n",
    "    articles.append(content)"
   ]
  },
  {
   "cell_type": "code",
   "execution_count": null,
   "id": "c9de112e",
   "metadata": {},
   "outputs": [],
   "source": []
  }
 ],
 "metadata": {
  "kernelspec": {
   "display_name": "Python 3 (ipykernel)",
   "language": "python",
   "name": "python3"
  },
  "language_info": {
   "codemirror_mode": {
    "name": "ipython",
    "version": 3
   },
   "file_extension": ".py",
   "mimetype": "text/x-python",
   "name": "python",
   "nbconvert_exporter": "python",
   "pygments_lexer": "ipython3",
   "version": "3.9.12"
  },
  "toc": {
   "base_numbering": 1,
   "nav_menu": {},
   "number_sections": true,
   "sideBar": true,
   "skip_h1_title": false,
   "title_cell": "Table of Contents",
   "title_sidebar": "Contents",
   "toc_cell": false,
   "toc_position": {
    "height": "calc(100% - 180px)",
    "left": "10px",
    "top": "150px",
    "width": "191.594px"
   },
   "toc_section_display": true,
   "toc_window_display": true
  }
 },
 "nbformat": 4,
 "nbformat_minor": 5
}
